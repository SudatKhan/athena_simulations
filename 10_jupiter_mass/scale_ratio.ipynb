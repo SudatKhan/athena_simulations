{
 "cells": [
  {
   "cell_type": "code",
   "execution_count": 37,
   "metadata": {},
   "outputs": [],
   "source": [
    "import numpy as np\n",
    "import matplotlib.pyplot as plt\n",
    "from sympy import *"
   ]
  },
  {
   "cell_type": "code",
   "execution_count": 38,
   "metadata": {},
   "outputs": [],
   "source": [
    "rho0 = 1.0\n",
    "r0 = 1.0\n",
    "dslope = -2.25\n",
    "K = 0.04\n",
    "GM = 1.0\n",
    "beta = rho0/(r0**dslope)"
   ]
  },
  {
   "cell_type": "code",
   "execution_count": 39,
   "metadata": {},
   "outputs": [],
   "source": [
    "'''def surface_density(r1):\n",
    "    return beta * r1**dslope'''\n",
    "\n",
    "'''def pressure(r2):\n",
    "    global p0_over_r0\n",
    "    omega = np.sqrt(planetgm / (r2**3))\n",
    "    gamma = (rho0 * p0_over_r0) / (r0**(2+dslope))\n",
    "    return gamma * r2**(2+dslope)'''\n",
    "\n",
    "def p(r2):\n",
    "    omega = np.sqrt(GM / (r2**3))\n",
    "    return (K**2 * omega**2* r0**(2+dslope)) / (r0**(dslope))"
   ]
  },
  {
   "cell_type": "code",
   "execution_count": 40,
   "metadata": {},
   "outputs": [
    {
     "name": "stdout",
     "output_type": "stream",
     "text": [
      "0.0016\n"
     ]
    }
   ],
   "source": [
    "print(p(1.0))"
   ]
  }
 ],
 "metadata": {
  "kernelspec": {
   "display_name": "Python 3",
   "language": "python",
   "name": "python3"
  },
  "language_info": {
   "codemirror_mode": {
    "name": "ipython",
    "version": 3
   },
   "file_extension": ".py",
   "mimetype": "text/x-python",
   "name": "python",
   "nbconvert_exporter": "python",
   "pygments_lexer": "ipython3",
   "version": "3.10.6"
  },
  "orig_nbformat": 4
 },
 "nbformat": 4,
 "nbformat_minor": 2
}
