{
 "cells": [
  {
   "cell_type": "code",
   "execution_count": 29,
   "metadata": {},
   "outputs": [],
   "source": [
    "from sympy import *\n",
    "from scipy.optimize import *\n",
    "import numpy as np"
   ]
  },
  {
   "cell_type": "code",
   "execution_count": 30,
   "metadata": {},
   "outputs": [
    {
     "data": {
      "text/latex": [
       "$\\displaystyle \\frac{1.0 \\cdot \\left(4.0 - 1.0 x^{270}\\right)}{x - 1}$"
      ],
      "text/plain": [
       "1.0*(4.0 - 1.0*x**270)/(x - 1)"
      ]
     },
     "execution_count": 30,
     "metadata": {},
     "output_type": "execute_result"
    }
   ],
   "source": [
    "x = Symbol('x')\n",
    "x_max = 2.0\n",
    "x_min = 0.5\n",
    "n = 270\n",
    "simplify(((x_max - x_min)/(x_min*(x-1))) - ((x**n - 1)/(x-1)))"
   ]
  },
  {
   "cell_type": "code",
   "execution_count": 31,
   "metadata": {},
   "outputs": [
    {
     "name": "stdout",
     "output_type": "stream",
     "text": [
      "[1.00514763]\n"
     ]
    }
   ],
   "source": [
    "def f(x):\n",
    "    return simplify(((x_max - x_min)/(x_min*(x-1))) - ((x**n - 1)/(x-1)))\n",
    "print(fsolve(f, 1.0219))\n",
    "ratio = fsolve(f, 1.0219)[0]"
   ]
  },
  {
   "cell_type": "code",
   "execution_count": 32,
   "metadata": {},
   "outputs": [
    {
     "name": "stdout",
     "output_type": "stream",
     "text": [
      "0.005147627300605917\n"
     ]
    }
   ],
   "source": [
    "cell_size = 1.0*(ratio-1)\n",
    "print(cell_size)"
   ]
  },
  {
   "cell_type": "code",
   "execution_count": 33,
   "metadata": {},
   "outputs": [
    {
     "name": "stdout",
     "output_type": "stream",
     "text": [
      "0.02048107871413682\n"
     ]
    }
   ],
   "source": [
    "print(0.3*np.cbrt(0.000954588/3))"
   ]
  },
  {
   "cell_type": "code",
   "execution_count": 34,
   "metadata": {},
   "outputs": [
    {
     "name": "stdout",
     "output_type": "stream",
     "text": [
      "1220.5983340013768\n"
     ]
    }
   ],
   "source": [
    "print(2*np.pi /(ratio-1) )"
   ]
  }
 ],
 "metadata": {
  "kernelspec": {
   "display_name": "Python 3",
   "language": "python",
   "name": "python3"
  },
  "language_info": {
   "codemirror_mode": {
    "name": "ipython",
    "version": 3
   },
   "file_extension": ".py",
   "mimetype": "text/x-python",
   "name": "python",
   "nbconvert_exporter": "python",
   "pygments_lexer": "ipython3",
   "version": "3.10.12"
  },
  "orig_nbformat": 4
 },
 "nbformat": 4,
 "nbformat_minor": 2
}
