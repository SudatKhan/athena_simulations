{
 "cells": [
  {
   "cell_type": "code",
   "execution_count": 62,
   "metadata": {},
   "outputs": [],
   "source": [
    "from sympy import *\n",
    "from scipy.optimize import *\n",
    "import numpy as np"
   ]
  },
  {
   "cell_type": "code",
   "execution_count": 63,
   "metadata": {},
   "outputs": [
    {
     "data": {
      "text/latex": [
       "$\\displaystyle \\frac{1.0 \\cdot \\left(4.0 - 1.0 x^{192}\\right)}{x - 1}$"
      ],
      "text/plain": [
       "1.0*(4.0 - 1.0*x**192)/(x - 1)"
      ]
     },
     "execution_count": 63,
     "metadata": {},
     "output_type": "execute_result"
    }
   ],
   "source": [
    "x = Symbol('x')\n",
    "x_max = 2.0\n",
    "x_min = 0.5\n",
    "n = 192\n",
    "simplify(((x_max - x_min)/(x_min*(x-1))) - ((x**n - 1)/(x-1)))"
   ]
  },
  {
   "cell_type": "code",
   "execution_count": 67,
   "metadata": {},
   "outputs": [
    {
     "name": "stdout",
     "output_type": "stream",
     "text": [
      "1.007246412223735\n"
     ]
    }
   ],
   "source": [
    "def f(x):\n",
    "    return simplify(((x_max - x_min)/(x_min*(x-1))) - ((x**n - 1)/(x-1)))\n",
    "fsolve(f, 1.0219)\n",
    "ratio = fsolve(f, 1.0219)[0]"
   ]
  },
  {
   "cell_type": "code",
   "execution_count": 69,
   "metadata": {},
   "outputs": [
    {
     "name": "stdout",
     "output_type": "stream",
     "text": [
      "0.00724641222373501\n"
     ]
    }
   ],
   "source": [
    "cell_size = 1.0*(1.007246412223735-1)\n",
    "print(cell_size)"
   ]
  },
  {
   "cell_type": "code",
   "execution_count": 72,
   "metadata": {},
   "outputs": [
    {
     "name": "stdout",
     "output_type": "stream",
     "text": [
      "0.020481078714136815\n"
     ]
    }
   ],
   "source": [
    "print(0.3*np.cbrt(0.000954588/3))"
   ]
  },
  {
   "cell_type": "code",
   "execution_count": 74,
   "metadata": {},
   "outputs": [
    {
     "name": "stdout",
     "output_type": "stream",
     "text": [
      "867.0753351016306\n"
     ]
    }
   ],
   "source": [
    "print(2*np.pi /(1.007246412223735-1) )"
   ]
  }
 ],
 "metadata": {
  "kernelspec": {
   "display_name": "Python 3",
   "language": "python",
   "name": "python3"
  },
  "language_info": {
   "codemirror_mode": {
    "name": "ipython",
    "version": 3
   },
   "file_extension": ".py",
   "mimetype": "text/x-python",
   "name": "python",
   "nbconvert_exporter": "python",
   "pygments_lexer": "ipython3",
   "version": "3.10.6"
  },
  "orig_nbformat": 4
 },
 "nbformat": 4,
 "nbformat_minor": 2
}
